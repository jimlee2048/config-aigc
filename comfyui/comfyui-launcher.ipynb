{
  "cells": [
    {
      "cell_type": "markdown",
      "metadata": {},
      "source": [
        "# ComfyUI Launcher"
      ]
    },
    {
      "cell_type": "markdown",
      "metadata": {},
      "source": [
        "## Env"
      ]
    },
    {
      "cell_type": "code",
      "execution_count": null,
      "metadata": {},
      "outputs": [],
      "source": [
        "\n",
        "import os\n",
        "import sys\n",
        "sys.path.append('..')\n",
        "os.system('pip install -r ../requirements.txt')\n",
        "from utils.files import is_dir_empty\n",
        "import shutil\n",
        "import time\n",
        "import subprocess\n",
        "from urllib.parse import urlparse\n",
        "import toml"
      ]
    },
    {
      "cell_type": "code",
      "execution_count": null,
      "metadata": {},
      "outputs": [],
      "source": [
        "# set proxy\n",
        "from utils.proxy import set_proxy, set_proxy_autodl\n",
        "\n",
        "# set_proxy('127.0.0.1', 7890)\n",
        "set_proxy_autodl()"
      ]
    },
    {
      "cell_type": "code",
      "execution_count": null,
      "metadata": {},
      "outputs": [],
      "source": [
        "# config\n",
        "## path\n",
        "WORKSPACE_DIR = os.path.join('..','workspace')\n",
        "WORKSPACE_DIR = os.path.abspath(WORKSPACE_DIR)\n",
        "MODEL_DIR = os.path.join(WORKSPACE_DIR, 'models')\n",
        "APP_DIR = os.path.join(WORKSPACE_DIR, 'comfyui')\n",
        "\n",
        "## custom nodes init\n",
        "CUSTOM_NODES_CONFIG = 'comfyui-custom_nodes.toml'\n",
        "CUSTOM_NODES_INSTALL_REQ = True\n",
        "\n",
        "## model downloading\n",
        "MODELS_DOWNLOAD = True\n",
        "MODELS_CONFIG = 'comfyui-models.toml'\n",
        "MODELS_INCLUDE_CATEGORY = ['sdxl']\n",
        "MODELS_INCLUDE_TAGS = ['set-lite']\n",
        "\n",
        "## app launch\n",
        "AUTO_UPDATE = True\n",
        "LAUNCH_CLI_ARGS = [\n",
        "    \"--listen 127.0.0.1\",\n",
        "    \"--port 8080\",\n",
        "    \"--disable-auto-launch\"\n",
        "]"
      ]
    },
    {
      "cell_type": "code",
      "execution_count": null,
      "metadata": {},
      "outputs": [],
      "source": [
        "# debug\n",
        "## debug env\n",
        "WORKSPACE_DIR = os.path.join('..', 'workspace', 'test')\n",
        "# use absolute path\n",
        "WORKSPACE_DIR = os.path.abspath(WORKSPACE_DIR)\n",
        "MODEL_DIR = os.path.join(WORKSPACE_DIR, 'models')\n",
        "APP_DIR = os.path.join(WORKSPACE_DIR, 'comfyui')\n",
        "\n",
        "CUSTOM_NODES_INSTALL_REQ = True\n",
        "MODELS_DOWNLOAD = True\n",
        "MODELS_INCLUDE_CATEGORY = ['sd15']\n",
        "AUTO_UPDATE = True"
      ]
    },
    {
      "cell_type": "markdown",
      "metadata": {},
      "source": [
        "## Initialize app"
      ]
    },
    {
      "cell_type": "code",
      "execution_count": null,
      "metadata": {},
      "outputs": [],
      "source": [
        "# check if nvidia cuda is available\n",
        "def check_gpu():\n",
        "    try:\n",
        "        print(subprocess.run(['nvidia-smi'], stdout=subprocess.PIPE, stderr=subprocess.PIPE).stdout.decode('utf-8'))\n",
        "        print(\"🟢 NVIDIA GPU found\")        \n",
        "        return True\n",
        "    except FileNotFoundError:   \n",
        "        print(\"🟡 NVIDIA GPU not found\")\n",
        "        return False\n",
        "check_gpu()"
      ]
    },
    {
      "cell_type": "code",
      "execution_count": null,
      "metadata": {
        "id": "bbbbbbbbbb"
      },
      "outputs": [],
      "source": [
        "# initialize comfyui\n",
        "print('📦 Start: initialize comfyui')\n",
        "try:\n",
        "    if os.path.exists(APP_DIR) and AUTO_UPDATE:\n",
        "        print(\"🔄 Existed comfyui, checking updates...\")\n",
        "        update_result = subprocess.run(['git', 'pull'], cwd=APP_DIR, capture_output=True, text=True, check=True)\n",
        "        if 'Already up to date' in update_result.stdout:\n",
        "            print(\"🔄 comfyui is already up to date!\")\n",
        "        else:\n",
        "            print(\"🔄 comfyui is updated!\")\n",
        "    elif os.path.exists(APP_DIR):\n",
        "        print(\"📦 Existed comfyui, skip installation\")\n",
        "    else:\n",
        "        print('📦 Install: comfyui')\n",
        "        subprocess.run(['git', 'clone', 'https://github.com/comfyanonymous/ComfyUI.git', APP_DIR], check=True)\n",
        "        if check_gpu():\n",
        "            subprocess.run(['pip', 'install', 'xformers', '-r', os.path.join(APP_DIR, \"requirements.txt\")], cwd=APP_DIR, check=True)\n",
        "        else:\n",
        "            subprocess.run(['pip', 'install', '-r', os.path.join(APP_DIR, \"requirements.txt\")], cwd=APP_DIR, check=True)\n",
        "except Exception as e:\n",
        "    print(f\"🔴 Error: {e}\")"
      ]
    },
    {
      "cell_type": "markdown",
      "metadata": {},
      "source": [
        "## Download models"
      ]
    },
    {
      "cell_type": "code",
      "execution_count": null,
      "metadata": {},
      "outputs": [],
      "source": [
        "# prepare models dir\n",
        "# !mkdir -p $MODEL_DIR/configs\n",
        "# !cp -rf $APP_DIR/models/configs/* $MODEL_DIR/configs\n",
        "# !rm -rf $APP_DIR/models\n",
        "# !ln -sf $MODEL_DIR $APP_DIR/models\n",
        "os.makedirs(os.path.join(MODEL_DIR), exist_ok=True)\n",
        "if not os.path.islink(os.path.join(APP_DIR, \"models\")):\n",
        "    src = MODEL_DIR\n",
        "    dst = os.path.join(APP_DIR, \"models\")\n",
        "    if os.path.exists(os.path.join(dst, \"configs\")) and not is_dir_empty(dst) and not os.path.exists(os.path.join(src, \"configs\")):\n",
        "        shutil.copytree(os.path.join(dst, \"configs\"), os.path.join(src, \"configs\"), dirs_exist_ok=True)\n",
        "    shutil.rmtree(os.path.join(dst))\n",
        "    os.symlink(src, dst, target_is_directory=True)"
      ]
    },
    {
      "cell_type": "code",
      "execution_count": null,
      "metadata": {},
      "outputs": [],
      "source": [
        "from utils.download import download_models\n",
        "\n",
        "# exec models download\n",
        "if MODELS_DOWNLOAD:\n",
        "    config_models = toml.load(MODELS_CONFIG)\n",
        "    models = config_models['models']\n",
        "    download_models(models, MODEL_DIR, MODELS_INCLUDE_CATEGORY, MODELS_INCLUDE_TAGS)"
      ]
    },
    {
      "cell_type": "markdown",
      "metadata": {},
      "source": [
        "## Initialize `custom_nodes`"
      ]
    },
    {
      "cell_type": "code",
      "execution_count": null,
      "metadata": {},
      "outputs": [],
      "source": [
        "def init_custom_nodes(custom_nodes, install_requirements=CUSTOM_NODES_INSTALL_REQ, max_retries=3, retry_interval=5):\n",
        "    print(f\"📦 Start: initializing custom nodes\")\n",
        "    requirements_list = []\n",
        "    new_list = []\n",
        "    existing_list = []\n",
        "    updated_list = []\n",
        "    error_list = []\n",
        "    for cn in custom_nodes:\n",
        "        cn_url = cn['url']\n",
        "        cn_name = urlparse(cn_url).path.split('/')[-1].split('.')[0]\n",
        "        cn_path = os.path.join(APP_DIR, \"custom_nodes\", cn_name)\n",
        "        if os.path.exists(os.path.join(cn_path, '.git')) and len(os.listdir(cn_path)) == 1:\n",
        "            print(f\"🔴 {cn_name}: custom nodes broken, will reinstall\")\n",
        "            shutil.rmtree(cn_path)\n",
        "        retries = 0\n",
        "        while retries < max_retries:\n",
        "            try:\n",
        "                if os.path.exists(cn_path) and not is_dir_empty(cn_path):\n",
        "                    print(f\"🟡 {cn_name}: existed custom nodes.\")\n",
        "                    existing_list.append(cn_name)\n",
        "                    if AUTO_UPDATE:\n",
        "                        update_result = subprocess.run(['git', 'pull'], cwd=cn_path, capture_output=True, text=True, check=True)\n",
        "                        if 'Already up to date' in update_result.stdout:\n",
        "                            print(f\"🟡 {cn_name}: custom nodes already up to date.\")\n",
        "                            break\n",
        "                        else:\n",
        "                            print(f\"🟢 {cn_name}: custom nodes updated.\")\n",
        "                            updated_list.append(cn_name)\n",
        "                            break\n",
        "                else:\n",
        "                    print(f\"🟢 {cn_name}: new custom nodes, cloning...\")\n",
        "                    subprocess.check_call(['git', 'clone', cn_url, cn_path])\n",
        "                    requirements_list + [\"-r\", os.path.join(cn_path, \"requirement.txt\")]\n",
        "                    new_list.append(cn_name)\n",
        "                    break\n",
        "            except Exception as e:\n",
        "                print(f\"🔴 {cn_name}: error: {e}\")\n",
        "                retries += 1\n",
        "                print(f\"⏳ Retrying, sleep {retry_interval}s... ({retries}/{max_retries})\")\n",
        "                time.sleep(retry_interval)\n",
        "        if retries >= max_retries:\n",
        "            print(f\"🔴 {cn_name}: failed to clone!\")\n",
        "            error_list.append(cn_name)\n",
        "            return False\n",
        "        \n",
        "    total_counts = len(custom_nodes)\n",
        "    existing_counts =len(existing_list)\n",
        "    new_counts = len(new_list)\n",
        "    error_counts = len(error_list)\n",
        "    print(f\"📦 Finished: initialize custom nodes\")\n",
        "    print(f\"📦 Total: {total_counts}\")\n",
        "    print(f\"🟡 Existed: {existing_counts}\")\n",
        "    if AUTO_UPDATE:\n",
        "        updated = len(updated_list)\n",
        "        print(f\"🟢 Updated: {updated}\")\n",
        "    print(f\"🟢 New: {new_counts}\")\n",
        "    if new_counts > 0:\n",
        "        for i in new_list:\n",
        "            print(f\"- {i}\")\n",
        "    print(f\"🔴 Error: {error_counts}\")\n",
        "    if error_counts > 0:\n",
        "        for i in error_list:\n",
        "            print(f\" - {i}\")\n",
        "\n",
        "    if install_requirements and requirements_list:\n",
        "        print(f\"📦 Try: pre-install new custom nodes requirements\")\n",
        "        install_requirements_command = [\"pip\", \"install\"] + requirements_list\n",
        "        try:\n",
        "            subprocess.run(install_requirements_command, cwd=APP_DIR, check=True)\n",
        "        except Exception as e:\n",
        "            print(f\"🔴 Error: {e}\")\n",
        "            return False\n",
        "        print(f\"🟢 Success: pre-install new custom nodes requirements.\")\n",
        "\n",
        "    return True"
      ]
    },
    {
      "cell_type": "code",
      "execution_count": null,
      "metadata": {},
      "outputs": [],
      "source": [
        "# initial comfyui custom_nodes\n",
        "config_custom_nodes = toml.load(CUSTOM_NODES_CONFIG)\n",
        "custom_nodes = config_custom_nodes['custom_nodes']\n",
        "custom_nodes_models = config_custom_nodes['models']\n",
        "# download custom_nodes from list\n",
        "init_custom_nodes(custom_nodes)\n",
        "download_models(custom_nodes_models, MODEL_DIR, MODELS_INCLUDE_CATEGORY, MODELS_INCLUDE_TAGS)"
      ]
    },
    {
      "cell_type": "markdown",
      "metadata": {},
      "source": [
        "## Launch"
      ]
    },
    {
      "cell_type": "code",
      "execution_count": null,
      "metadata": {},
      "outputs": [],
      "source": [
        "!python $APP_DIR/main.py {LAUNCH_CLI_ARGS}"
      ]
    },
    {
      "cell_type": "markdown",
      "metadata": {},
      "source": [
        "## Utils"
      ]
    },
    {
      "cell_type": "code",
      "execution_count": null,
      "metadata": {},
      "outputs": [],
      "source": [
        "# shutdown\n",
        "os.system(\"/usr/bin/shutdown\")"
      ]
    }
  ],
  "metadata": {
    "accelerator": "GPU",
    "colab": {
      "provenance": []
    },
    "gpuClass": "standard",
    "kernelspec": {
      "display_name": "Python 3",
      "name": "python3"
    },
    "language_info": {
      "codemirror_mode": {
        "name": "ipython",
        "version": 3
      },
      "file_extension": ".py",
      "mimetype": "text/x-python",
      "name": "python",
      "nbconvert_exporter": "python",
      "pygments_lexer": "ipython3",
      "version": "3.12.3"
    }
  },
  "nbformat": 4,
  "nbformat_minor": 0
}
