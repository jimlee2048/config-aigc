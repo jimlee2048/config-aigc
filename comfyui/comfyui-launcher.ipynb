{
  "cells": [
    {
      "cell_type": "markdown",
      "metadata": {},
      "source": [
        "# ComfyUI Launcher"
      ]
    },
    {
      "cell_type": "markdown",
      "metadata": {},
      "source": [
        "## Env"
      ]
    },
    {
      "cell_type": "code",
      "execution_count": null,
      "metadata": {},
      "outputs": [],
      "source": [
        "# set proxy\n",
        "\n",
        "#!export HTTP_PROXY=http://host.docker.internal:1081\n",
        "#!export HTTPS_PROXY=$HTTP_PROXY\n",
        "#!export http_proxy=$HTTP_PROXY\n",
        "#!export https_proxy=$HTTP_PROXY\n",
        "#!export NO_PROXY=\"localhost,*.local,*.internal,[::1],fd00::/7,\n",
        "# 10.0.0.0/8,127.0.0.0/8,169.254.0.0/16,172.16.0.0/12,192.168.0.0/16,\n",
        "# 10.*,127.*,169.254.*,172.16.*,172.17.*,172.18.*,172.19.*,172.20.*,\n",
        "# 172.21.*,172.22.*,172.23.*,172.24.*,172.25.*,172.26.*,172.27.*,\n",
        "# 172.28.*,172.29.*,172.30.*,172.31.*,172.32.*,192.168.*,\n",
        "# *.cn,ghproxy.com,*.ghproxy.com,ghproxy.org,*.ghproxy.org,\n",
        "# gh-proxy.com,*.gh-proxy.com,ghproxy.net,*.ghproxy.net\"\n",
        "#!export no_proxy=$NO_PROXY\n",
        "#!echo \"[INFO] Proxy set to $HTTP_PROXY\"\n",
        "\n",
        "# os.environ['HTTP_PROXY'] = 'http://host.docker.internal:1081'\n",
        "# os.environ['HTTPS_PROXY'] = os.environ['HTTP_PROXY']\n",
        "# os.environ['http_proxy'] = os.environ['HTTP_PROXY']\n",
        "# os.environ['https_proxy'] = os.environ['HTTP_PROXY']\n",
        "# os.environ['NO_PROXY'] = \"localhost,*.local,*.internal,[::1],fd00::/7,10.0.0.0/8,127.0.0.0/8,169.254.0.0/16,172.16.0.0/12,192.168.0.0/16,10.*,127.*,169.254.*,172.16.*,172.17.*,172.18.*,172.19.*,172.20.*,172.21.*,172.22.*,172.23.*,172.24.*,172.25.*,172.26.*,172.27.*,172.28.*,172.29.*,172.30.*,172.31.*,172.32.*,192.168.*,*.cn,ghproxy.com,*.ghproxy.com,ghproxy.org,*.ghproxy.org,gh-proxy.com,*.gh-proxy.com,ghproxy.net,*.ghproxy.net\"\n",
        "# os.environ['no_proxy'] = os.environ['NO_PROXY']\n",
        "# print(f\"🟡 Proxy set to {os.environ['HTTP_PROXY']}\")"
      ]
    },
    {
      "cell_type": "code",
      "execution_count": null,
      "metadata": {},
      "outputs": [],
      "source": [
        "# set proxy (autodl)\n",
        "# import subprocess\n",
        "# import os\n",
        "\n",
        "# result = subprocess.run('bash -c \"source /etc/network_turbo && env | grep proxy\"',\n",
        "#                         shell=True, capture_output=True, text=True)\n",
        "# output = result.stdout\n",
        "# for line in output.splitlines():\n",
        "#     if '=' in line:\n",
        "#         var, value = line.split('=', 1)\n",
        "#         os.environ[var] = value"
      ]
    },
    {
      "cell_type": "code",
      "execution_count": null,
      "metadata": {},
      "outputs": [],
      "source": [
        "%pip install toml tqdm\n",
        "import os\n",
        "import shutil\n",
        "import time\n",
        "import toml\n",
        "import subprocess\n",
        "from urllib.parse import urlparse\n",
        "\n",
        "# global utils\n",
        "def is_dir_empty(path):\n",
        "    return len(os.listdir(path)) == 0"
      ]
    },
    {
      "cell_type": "code",
      "execution_count": null,
      "metadata": {},
      "outputs": [],
      "source": [
        "# config\n",
        "## path\n",
        "WORKSPACE_PATH = os.path.join('..','workspace')\n",
        "WORKSPACE_PATH = os.path.abspath(WORKSPACE_PATH)\n",
        "MODEL_PATH = os.path.join(WORKSPACE_PATH, 'models')\n",
        "APP_PATH = os.path.join(WORKSPACE_PATH, 'comfyui')\n",
        "\n",
        "## custom nodes init\n",
        "CUSTOM_NODES_CONFIG = 'comfyui-custom_nodes.toml'\n",
        "CUSTOM_NODES_INSTALL_REQ = True\n",
        "\n",
        "## model downloading\n",
        "MODELS_DOWNLOAD = True\n",
        "MODELS_CONFIG = 'comfyui-models.toml'\n",
        "MODELS_INCLUDE_CATEGORY = ['sdxl']\n",
        "MODELS_INCLUDE_TAGS = ['set-lite']\n",
        "\n",
        "## app launch\n",
        "AUTO_UPDATE = True\n",
        "LAUNCH_CLI_ARGS = [\n",
        "    \"--listen 127.0.0.1\",\n",
        "    \"--port 8080\",\n",
        "    \"--disable-auto-launch\"\n",
        "]"
      ]
    },
    {
      "cell_type": "code",
      "execution_count": null,
      "metadata": {},
      "outputs": [],
      "source": [
        "# debug\n",
        "## debug env\n",
        "WORKSPACE_PATH = os.path.join('..', 'workspace', 'test')\n",
        "# use absolute path\n",
        "WORKSPACE_PATH = os.path.abspath(WORKSPACE_PATH)\n",
        "MODEL_PATH = os.path.join(WORKSPACE_PATH, 'models')\n",
        "APP_PATH = os.path.join(WORKSPACE_PATH, 'comfyui')\n",
        "\n",
        "CUSTOM_NODES_INSTALL_REQ = True\n",
        "MODELS_DOWNLOAD = True\n",
        "MODELS_INCLUDE_CATEGORY = ['sd15']\n",
        "AUTO_UPDATE = True"
      ]
    },
    {
      "cell_type": "markdown",
      "metadata": {},
      "source": [
        "## Initialize app"
      ]
    },
    {
      "cell_type": "code",
      "execution_count": null,
      "metadata": {},
      "outputs": [],
      "source": [
        "# check if nvidia cuda is available\n",
        "def check_gpu():\n",
        "    try:\n",
        "        print(subprocess.run(['nvidia-smi'], stdout=subprocess.PIPE, stderr=subprocess.PIPE).stdout.decode('utf-8'))\n",
        "        print(\"🟢 NVIDIA GPU found\")        \n",
        "        return True\n",
        "    except FileNotFoundError:   \n",
        "        print(\"🟡 NVIDIA GPU not found\")\n",
        "        return False\n",
        "check_gpu()"
      ]
    },
    {
      "cell_type": "code",
      "execution_count": null,
      "metadata": {
        "id": "bbbbbbbbbb"
      },
      "outputs": [],
      "source": [
        "# initialize comfyui\n",
        "print('📦 Start: initialize comfyui')\n",
        "try:\n",
        "    if os.path.exists(APP_PATH) and AUTO_UPDATE:\n",
        "        print(\"🔄 Existed comfyui, checking updates...\")\n",
        "        update_result = subprocess.run(['git', 'pull'], cwd=APP_PATH, capture_output=True, text=True, check=True)\n",
        "        if 'Already up to date' in update_result.stdout:\n",
        "            print(\"🔄 comfyui is already up to date!\")\n",
        "        else:\n",
        "            print(\"🔄 comfyui is updated!\")\n",
        "    elif os.path.exists(APP_PATH):\n",
        "        print(\"📦 Existed comfyui, skip installation\")\n",
        "    else:\n",
        "        print('📦 Install: comfyui')\n",
        "        subprocess.run(['git', 'clone', 'https://github.com/comfyanonymous/ComfyUI.git', APP_PATH], check=True)\n",
        "        if check_gpu():\n",
        "            subprocess.run(['pip', 'install', 'xformers', '-r', os.path.join(APP_PATH, \"requirements.txt\")], cwd=APP_PATH, check=True)\n",
        "        else:\n",
        "            subprocess.run(['pip', 'install', '-r', os.path.join(APP_PATH, \"requirements.txt\")], cwd=APP_PATH, check=True)\n",
        "except Exception as e:\n",
        "    print(f\"🔴 Error: {e}\")"
      ]
    },
    {
      "cell_type": "markdown",
      "metadata": {},
      "source": [
        "## Download models"
      ]
    },
    {
      "cell_type": "code",
      "execution_count": null,
      "metadata": {},
      "outputs": [],
      "source": [
        "# prepare models dir\n",
        "# !mkdir -p $MODEL_PATH/configs\n",
        "# !cp -rf $APP_PATH/models/configs/* $MODEL_PATH/configs\n",
        "# !rm -rf $APP_PATH/models\n",
        "# !ln -sf $MODEL_PATH $APP_PATH/models\n",
        "os.makedirs(os.path.join(MODEL_PATH), exist_ok=True)\n",
        "if not os.path.islink(os.path.join(APP_PATH, \"models\")):\n",
        "    src = MODEL_PATH\n",
        "    dst = os.path.join(APP_PATH, \"models\")\n",
        "    if os.path.exists(os.path.join(dst, \"configs\")) and not is_dir_empty(dst) and not os.path.exists(os.path.join(src, \"configs\")):\n",
        "        shutil.copytree(os.path.join(dst, \"configs\"), os.path.join(src, \"configs\"), dirs_exist_ok=True)\n",
        "    shutil.rmtree(os.path.join(dst))\n",
        "    os.symlink(src, dst, target_is_directory=True)"
      ]
    },
    {
      "cell_type": "code",
      "execution_count": null,
      "metadata": {},
      "outputs": [],
      "source": [
        "# import download function\n",
        "from scripts.download import download_models\n",
        "\n",
        "# exec models download\n",
        "if MODELS_DOWNLOAD:\n",
        "    config_models = toml.load(MODELS_CONFIG)\n",
        "    models = config_models['models']\n",
        "    download_models(models, MODEL_PATH, MODELS_INCLUDE_CATEGORY, MODELS_INCLUDE_TAGS)"
      ]
    },
    {
      "cell_type": "markdown",
      "metadata": {},
      "source": [
        "## Initialize `custom_nodes`"
      ]
    },
    {
      "cell_type": "code",
      "execution_count": null,
      "metadata": {},
      "outputs": [],
      "source": [
        "def init_custom_nodes(custom_nodes, install_requirements=CUSTOM_NODES_INSTALL_REQ, max_retries=3, retry_interval=5):\n",
        "    print(f\"📦 Start: initializing custom nodes\")\n",
        "    requirements_list = []\n",
        "    new_list = []\n",
        "    existing_list = []\n",
        "    updated_list = []\n",
        "    error_list = []\n",
        "    for cn in custom_nodes:\n",
        "        cn_url = cn['url']\n",
        "        cn_name = urlparse(cn_url).path.split('/')[-1].split('.')[0]\n",
        "        cn_path = os.path.join(APP_PATH, \"custom_nodes\", cn_name)\n",
        "        if os.path.exists(os.path.join(cn_path, '.git')) and len(os.listdir(cn_path)) == 1:\n",
        "            print(f\"🔴 {cn_name}: custom nodes broken, will reinstall\")\n",
        "            shutil.rmtree(cn_path)\n",
        "        retries = 0\n",
        "        while retries < max_retries:\n",
        "            try:\n",
        "                if os.path.exists(cn_path) and not is_dir_empty(cn_path):\n",
        "                    print(f\"🟡 {cn_name}: existed custom nodes.\")\n",
        "                    existing_list.append(cn_name)\n",
        "                    if AUTO_UPDATE:\n",
        "                        update_result = subprocess.run(['git', 'pull'], cwd=cn_path, capture_output=True, text=True, check=True)\n",
        "                        if 'Already up to date' in update_result.stdout:\n",
        "                            print(f\"🟡 {cn_name}: custom nodes already up to date.\")\n",
        "                            break\n",
        "                        else:\n",
        "                            print(f\"🟢 {cn_name}: custom nodes updated.\")\n",
        "                            updated_list.append(cn_name)\n",
        "                            break\n",
        "                else:\n",
        "                    print(f\"🟢 {cn_name}: new custom nodes, cloning...\")\n",
        "                    subprocess.check_call(['git', 'clone', cn_url, cn_path])\n",
        "                    requirements_list + [\"-r\", os.path.join(cn_path, \"requirement.txt\")]\n",
        "                    new_list.append(cn_name)\n",
        "                    break\n",
        "            except Exception as e:\n",
        "                print(f\"🔴 {cn_name}: error: {e}\")\n",
        "                retries += 1\n",
        "                print(f\"⏳ Retrying, sleep {retry_interval}s... ({retries}/{max_retries})\")\n",
        "                time.sleep(retry_interval)\n",
        "        if retries >= max_retries:\n",
        "            print(f\"🔴 {cn_name}: failed to clone!\")\n",
        "            error_list.append(cn_name)\n",
        "            return False\n",
        "        \n",
        "    total_counts = len(custom_nodes)\n",
        "    existing_counts =len(existing_list)\n",
        "    new_counts = len(new_list)\n",
        "    error_counts = len(error_list)\n",
        "    print(f\"📦 Finished: initialize custom nodes\")\n",
        "    print(f\"📦 Total: {total_counts}\")\n",
        "    print(f\"🟡 Existed: {existing_counts}\")\n",
        "    if AUTO_UPDATE:\n",
        "        updated = len(updated_list)\n",
        "        print(f\"🟢 Updated: {updated}\")\n",
        "    print(f\"🟢 New: {new_counts}\")\n",
        "    if new_counts > 0:\n",
        "        for i in new_list:\n",
        "            print(f\"- {i}\")\n",
        "    print(f\"🔴 Error: {error_counts}\")\n",
        "    if error_counts > 0:\n",
        "        for i in error_list:\n",
        "            print(f\" - {i}\")\n",
        "\n",
        "    if install_requirements and requirements_list:\n",
        "        print(f\"📦 Try: pre-install new custom nodes requirements\")\n",
        "        install_requirements_command = [\"pip\", \"install\"] + requirements_list\n",
        "        try:\n",
        "            subprocess.run(install_requirements_command, cwd=APP_PATH, check=True)\n",
        "        except Exception as e:\n",
        "            print(f\"🔴 Error: {e}\")\n",
        "            return False\n",
        "        print(f\"🟢 Success: pre-install new custom nodes requirements.\")\n",
        "\n",
        "    return True"
      ]
    },
    {
      "cell_type": "code",
      "execution_count": null,
      "metadata": {},
      "outputs": [],
      "source": [
        "# initial comfyui custom_nodes\n",
        "config_custom_nodes = toml.load(CUSTOM_NODES_CONFIG)\n",
        "custom_nodes = config_custom_nodes['custom_nodes']\n",
        "custom_nodes_models = config_custom_nodes['models']\n",
        "# download custom_nodes from list\n",
        "init_custom_nodes(custom_nodes)\n",
        "download_models(custom_nodes_models, MODEL_PATH, MODELS_INCLUDE_CATEGORY, MODELS_INCLUDE_TAGS)"
      ]
    },
    {
      "cell_type": "markdown",
      "metadata": {},
      "source": [
        "## Launch"
      ]
    },
    {
      "cell_type": "code",
      "execution_count": null,
      "metadata": {},
      "outputs": [],
      "source": [
        "!cd $APP_PATH\n",
        "!python main.py {LAUNCH_CLI_ARGS}"
      ]
    }
  ],
  "metadata": {
    "accelerator": "GPU",
    "colab": {
      "provenance": []
    },
    "gpuClass": "standard",
    "kernelspec": {
      "display_name": "Python 3",
      "name": "python3"
    },
    "language_info": {
      "codemirror_mode": {
        "name": "ipython",
        "version": 3
      },
      "file_extension": ".py",
      "mimetype": "text/x-python",
      "name": "python",
      "nbconvert_exporter": "python",
      "pygments_lexer": "ipython3",
      "version": "3.12.3"
    }
  },
  "nbformat": 4,
  "nbformat_minor": 0
}
